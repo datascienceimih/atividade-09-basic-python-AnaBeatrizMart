{
 "cells": [
  {
   "cell_type": "markdown",
   "metadata": {},
   "source": [
    "# Projeto Integrador 09 - RESPOSTAS\n",
    "## Prof. Neylson Crepalde\n",
    "\n",
    "Só confira as respostas depois de tentar realizar o exercício!!! Sua prática é muito importante!!!\n",
    "\n",
    "1) Crie uma lista com 100 números gerados aleatoriamente. Use o módulo `numpy` para criar os dados que você precisa. Atribua a lista a um objeto nomeado."
   ]
  },
  {
   "cell_type": "code",
   "execution_count": 1,
   "metadata": {},
   "outputs": [
    {
     "name": "stdout",
     "output_type": "stream",
     "text": [
      "[ 0.33990479 -1.44789078 -0.34140957 -0.30345978 -0.21812705 -1.25612508\n",
      "  0.9772412   0.88090794 -0.05167081 -1.01683245  0.21157147 -0.43914316\n",
      " -0.5567937   0.78170412 -1.09162333 -0.65321208  0.86706959 -1.11253095\n",
      "  0.44137123 -0.8153625   2.58235477 -0.6428204   0.42756021 -0.36010917\n",
      " -3.29150424  1.68765297 -1.44687722  1.10919519 -0.48923207 -0.10928614\n",
      "  0.13559055  1.68806648  0.55709354 -0.23239471  0.19275048  0.43114238\n",
      " -0.83743906  0.98424218 -0.3537568   1.43069235 -0.09762745 -0.42707525\n",
      " -0.14692124  1.76414169  0.51316276 -0.63140442  1.3115603   0.04418962\n",
      "  1.25471999  0.36571735  0.58402662 -1.18696813 -1.11715726  1.7902683\n",
      " -0.37892859  0.16797963  0.34873049  0.42264453 -0.53089309 -1.59639968\n",
      " -1.59855998 -1.11115572  1.42425016  2.19358293  1.19405568  0.42366117\n",
      " -0.03397778 -1.81563476 -0.17074186 -2.68735031 -0.15687437  0.28772095\n",
      " -0.14578589  0.9187356  -1.31898452  0.94862888 -0.16815971  1.11565367\n",
      "  0.18493743 -0.65538045 -0.82367626 -0.4247274  -0.88540325  2.074161\n",
      " -0.31507668  0.72399127 -1.4871013   1.36555469  0.28896052 -0.44423411\n",
      " -0.12321141  0.91520937 -1.05172311 -0.3440496   0.85527439  0.60930283\n",
      "  0.87935793  0.06551815  0.18634215 -0.16573824]\n"
     ]
    }
   ],
   "source": [
    "import numpy as np\n",
    "numeros = np.random.normal(size=100)\n",
    "print(numeros)"
   ]
  },
  {
   "cell_type": "markdown",
   "metadata": {},
   "source": [
    "2) Apresente o maior número, o menor número, a média do vetor, o desvio padrão e a variância. Todas essas funções podem ser encontradas no módulo `numpy`."
   ]
  },
  {
   "cell_type": "code",
   "execution_count": 2,
   "metadata": {},
   "outputs": [
    {
     "name": "stdout",
     "output_type": "stream",
     "text": [
      "0.01839628641272926\n",
      "2.5823547745782154\n",
      "-3.291504237027978\n",
      "1.021551592024386\n",
      "1.0435676551675577\n"
     ]
    }
   ],
   "source": [
    "print(numeros.mean())\n",
    "print(numeros.max())\n",
    "print(numeros.min())\n",
    "print(numeros.std())\n",
    "print(numeros.var())"
   ]
  },
  {
   "cell_type": "markdown",
   "metadata": {},
   "source": [
    "3) Apresente os mesmos resultados só que agora, construa uma frase que será apresentada no console. Ex.: A média do vetor numérico é 0.12."
   ]
  },
  {
   "cell_type": "code",
   "execution_count": 3,
   "metadata": {},
   "outputs": [
    {
     "name": "stdout",
     "output_type": "stream",
     "text": [
      "A média do vetor numérico é 0.02\n"
     ]
    }
   ],
   "source": [
    "print(\"A média do vetor numérico é \" + str(round(numeros.mean(),2)))"
   ]
  },
  {
   "cell_type": "markdown",
   "metadata": {},
   "source": [
    "4) Construa um for loop para iterar entre todos os números do vetor. Exiba o número no console se ele for maior do que 0."
   ]
  },
  {
   "cell_type": "code",
   "execution_count": 4,
   "metadata": {},
   "outputs": [
    {
     "name": "stdout",
     "output_type": "stream",
     "text": [
      "0.33990479329805734\n",
      "0.9772411994506435\n",
      "0.880907937085403\n",
      "0.21157146723001818\n",
      "0.7817041229039248\n",
      "0.8670695855741677\n",
      "0.44137123012858265\n",
      "2.5823547745782154\n",
      "0.4275602059631037\n",
      "1.6876529723278144\n",
      "1.1091951910595053\n",
      "0.13559055002746473\n",
      "1.6880664831600842\n",
      "0.5570935447762828\n",
      "0.1927504816758289\n",
      "0.4311423763646277\n",
      "0.984242183236057\n",
      "1.4306923518107648\n",
      "1.764141687801057\n",
      "0.5131627568809322\n",
      "1.3115602997352995\n",
      "0.04418961765990134\n",
      "1.2547199949619015\n",
      "0.3657173545319577\n",
      "0.5840266195841619\n",
      "1.7902682989561984\n",
      "0.1679796261803219\n",
      "0.3487304939382685\n",
      "0.4226445301771787\n",
      "1.4242501552478701\n",
      "2.193582934301285\n",
      "1.1940556809302296\n",
      "0.42366116725353925\n",
      "0.2877209507532153\n",
      "0.9187355973364956\n",
      "0.9486288768765947\n",
      "1.1156536651944646\n",
      "0.1849374268260435\n",
      "2.0741610013117846\n",
      "0.7239912725163268\n",
      "1.3655546862755263\n",
      "0.28896051852938043\n",
      "0.9152093661855865\n",
      "0.8552743893408498\n",
      "0.6093028345323193\n",
      "0.8793579344816432\n",
      "0.06551814736035658\n",
      "0.1863421549511837\n"
     ]
    }
   ],
   "source": [
    "for i in numeros:\n",
    "    if i > 0:\n",
    "        print(i)"
   ]
  },
  {
   "cell_type": "markdown",
   "metadata": {},
   "source": [
    "5) Faça a mesma coisa usando um loop while."
   ]
  },
  {
   "cell_type": "code",
   "execution_count": 5,
   "metadata": {},
   "outputs": [
    {
     "name": "stdout",
     "output_type": "stream",
     "text": [
      "0.33990479329805734\n",
      "0.9772411994506435\n",
      "0.880907937085403\n",
      "0.21157146723001818\n",
      "0.7817041229039248\n",
      "0.8670695855741677\n",
      "0.44137123012858265\n",
      "2.5823547745782154\n",
      "0.4275602059631037\n",
      "1.6876529723278144\n",
      "1.1091951910595053\n",
      "0.13559055002746473\n",
      "1.6880664831600842\n",
      "0.5570935447762828\n",
      "0.1927504816758289\n",
      "0.4311423763646277\n",
      "0.984242183236057\n",
      "1.4306923518107648\n",
      "1.764141687801057\n",
      "0.5131627568809322\n",
      "1.3115602997352995\n",
      "0.04418961765990134\n",
      "1.2547199949619015\n",
      "0.3657173545319577\n",
      "0.5840266195841619\n",
      "1.7902682989561984\n",
      "0.1679796261803219\n",
      "0.3487304939382685\n",
      "0.4226445301771787\n",
      "1.4242501552478701\n",
      "2.193582934301285\n",
      "1.1940556809302296\n",
      "0.42366116725353925\n",
      "0.2877209507532153\n",
      "0.9187355973364956\n",
      "0.9486288768765947\n",
      "1.1156536651944646\n",
      "0.1849374268260435\n",
      "2.0741610013117846\n",
      "0.7239912725163268\n",
      "1.3655546862755263\n",
      "0.28896051852938043\n",
      "0.9152093661855865\n",
      "0.8552743893408498\n",
      "0.6093028345323193\n",
      "0.8793579344816432\n",
      "0.06551814736035658\n",
      "0.1863421549511837\n"
     ]
    }
   ],
   "source": [
    "i = 0\n",
    "while i < len(numeros):\n",
    "    if numeros[i] > 0:\n",
    "        print(numeros[i])\n",
    "    i += 1"
   ]
  },
  {
   "cell_type": "markdown",
   "metadata": {},
   "source": [
    "6) Usando um comando, crie uma lista com números de 0 a 80. Usando um for loop e um loop while, se o número estiver entre 0 e 20, imprima pequeno. Se estiver entre 21 e 40, imprima médio. Se estiver entre 41 e 60, imprima grande. Se estiver entre 61 e 80, imprima \"Que isso, meu?\". Se o número for igual à sua idade, imprima na tela \"Te peguei!\"."
   ]
  },
  {
   "cell_type": "code",
   "execution_count": 6,
   "metadata": {},
   "outputs": [
    {
     "name": "stdout",
     "output_type": "stream",
     "text": [
      "Pequeno\n",
      "Pequeno\n",
      "Pequeno\n",
      "Pequeno\n",
      "Pequeno\n",
      "Pequeno\n",
      "Pequeno\n",
      "Pequeno\n",
      "Pequeno\n",
      "Pequeno\n",
      "Pequeno\n",
      "Pequeno\n",
      "Pequeno\n",
      "Pequeno\n",
      "Pequeno\n",
      "Pequeno\n",
      "Pequeno\n",
      "Pequeno\n",
      "Pequeno\n",
      "Pequeno\n",
      "Pequeno\n",
      "Médio\n",
      "Médio\n",
      "Médio\n",
      "Médio\n",
      "Médio\n",
      "Médio\n",
      "Médio\n",
      "Médio\n",
      "Médio\n",
      "Médio\n",
      "Te peguei\n",
      "Médio\n",
      "Médio\n",
      "Médio\n",
      "Médio\n",
      "Médio\n",
      "Médio\n",
      "Médio\n",
      "Médio\n",
      "Médio\n",
      "Médio\n",
      "Grande\n",
      "Grande\n",
      "Grande\n",
      "Grande\n",
      "Grande\n",
      "Grande\n",
      "Grande\n",
      "Grande\n",
      "Grande\n",
      "Grande\n",
      "Grande\n",
      "Grande\n",
      "Grande\n",
      "Grande\n",
      "Grande\n",
      "Grande\n",
      "Grande\n",
      "Grande\n",
      "Grande\n",
      "Grande\n",
      "Que isso, meu?\n",
      "Que isso, meu?\n",
      "Que isso, meu?\n",
      "Que isso, meu?\n",
      "Que isso, meu?\n",
      "Que isso, meu?\n",
      "Que isso, meu?\n",
      "Que isso, meu?\n",
      "Que isso, meu?\n",
      "Que isso, meu?\n",
      "Que isso, meu?\n",
      "Que isso, meu?\n",
      "Que isso, meu?\n",
      "Que isso, meu?\n",
      "Que isso, meu?\n",
      "Que isso, meu?\n",
      "Que isso, meu?\n",
      "Que isso, meu?\n",
      "Que isso, meu?\n",
      "Que isso, meu?\n"
     ]
    }
   ],
   "source": [
    "vec = list(range(81))\n",
    "\n",
    "for i in vec:\n",
    "    if i == 31:\n",
    "        print(\"Te peguei\")\n",
    "    if i <= 20:\n",
    "        print(\"Pequeno\")\n",
    "    elif i > 20 and i <= 40:\n",
    "        print(\"Médio\")\n",
    "    elif i > 40 and i <= 60:\n",
    "        print(\"Grande\")\n",
    "    elif i > 60:\n",
    "        print(\"Que isso, meu?\")"
   ]
  },
  {
   "cell_type": "code",
   "execution_count": 7,
   "metadata": {},
   "outputs": [
    {
     "name": "stdout",
     "output_type": "stream",
     "text": [
      "Pequeno\n",
      "Pequeno\n",
      "Pequeno\n",
      "Pequeno\n",
      "Pequeno\n",
      "Pequeno\n",
      "Pequeno\n",
      "Pequeno\n",
      "Pequeno\n",
      "Pequeno\n",
      "Pequeno\n",
      "Pequeno\n",
      "Pequeno\n",
      "Pequeno\n",
      "Pequeno\n",
      "Pequeno\n",
      "Pequeno\n",
      "Pequeno\n",
      "Pequeno\n",
      "Pequeno\n",
      "Pequeno\n",
      "Médio\n",
      "Médio\n",
      "Médio\n",
      "Médio\n",
      "Médio\n",
      "Médio\n",
      "Médio\n",
      "Médio\n",
      "Médio\n",
      "Médio\n",
      "Te peguei\n",
      "Médio\n",
      "Médio\n",
      "Médio\n",
      "Médio\n",
      "Médio\n",
      "Médio\n",
      "Médio\n",
      "Médio\n",
      "Médio\n",
      "Médio\n",
      "Grande\n",
      "Grande\n",
      "Grande\n",
      "Grande\n",
      "Grande\n",
      "Grande\n",
      "Grande\n",
      "Grande\n",
      "Grande\n",
      "Grande\n",
      "Grande\n",
      "Grande\n",
      "Grande\n",
      "Grande\n",
      "Grande\n",
      "Grande\n",
      "Grande\n",
      "Grande\n",
      "Grande\n",
      "Grande\n",
      "Que isso, meu?\n",
      "Que isso, meu?\n",
      "Que isso, meu?\n",
      "Que isso, meu?\n",
      "Que isso, meu?\n",
      "Que isso, meu?\n",
      "Que isso, meu?\n",
      "Que isso, meu?\n",
      "Que isso, meu?\n",
      "Que isso, meu?\n",
      "Que isso, meu?\n",
      "Que isso, meu?\n",
      "Que isso, meu?\n",
      "Que isso, meu?\n",
      "Que isso, meu?\n",
      "Que isso, meu?\n",
      "Que isso, meu?\n",
      "Que isso, meu?\n",
      "Que isso, meu?\n",
      "Que isso, meu?\n"
     ]
    }
   ],
   "source": [
    "i = 0\n",
    "while i < len(vec):\n",
    "    if i == 31:\n",
    "        print(\"Te peguei\")\n",
    "    if i <= 20:\n",
    "        print(\"Pequeno\")\n",
    "    elif i > 20 and i <= 40:\n",
    "        print(\"Médio\")\n",
    "    elif i > 40 and i <= 60:\n",
    "        print(\"Grande\")\n",
    "    elif i > 60:\n",
    "        print(\"Que isso, meu?\")\n",
    "    i += 1"
   ]
  },
  {
   "cell_type": "markdown",
   "metadata": {},
   "source": [
    "7) Crie um dicionário. As chaves serão os nomes de 5 pessoas e os valores, suas idades. Usando um for loop, imprima os pares chave, valor."
   ]
  },
  {
   "cell_type": "code",
   "execution_count": 8,
   "metadata": {},
   "outputs": [
    {
     "name": "stdout",
     "output_type": "stream",
     "text": [
      "Neylson 31\n",
      "Sarah 28\n",
      "João Pedro 5\n",
      "Gabriela 26\n",
      "Isabela 22\n"
     ]
    }
   ],
   "source": [
    "dic = {\"Neylson\": 31,\n",
    "      \"Sarah\": 28,\n",
    "      \"João Pedro\": 5,\n",
    "      \"Gabriela\": 26,\n",
    "      \"Isabela\": 22}\n",
    "for i, j in dic.items():\n",
    "    print(i, j)"
   ]
  },
  {
   "cell_type": "markdown",
   "metadata": {},
   "source": [
    "8) Usando um for loop, mostre quem é a pessoa mais velha e a pessoa mais nova no dicionário. Dica: usaremos um for loop iterando sobre os pares de chaves, valores (os itens)."
   ]
  },
  {
   "cell_type": "code",
   "execution_count": 9,
   "metadata": {},
   "outputs": [
    {
     "name": "stdout",
     "output_type": "stream",
     "text": [
      "Neylson é a pessoa mais velha. Sua idade é 31 anos.\n",
      "João Pedro é a pessoa mais jovem. Sua idade é 5 anos.\n"
     ]
    }
   ],
   "source": [
    "for i, j in dic.items():\n",
    "    if j == max(dic.values()):\n",
    "        print(i + \" é a pessoa mais velha. Sua idade é \" + str(j) + \" anos.\")\n",
    "    if j == min(dic.values()):\n",
    "        print(i + \" é a pessoa mais jovem. Sua idade é \" + str(j) + \" anos.\")\n",
    "    "
   ]
  }
 ],
 "metadata": {
  "kernelspec": {
   "display_name": "Python 3",
   "language": "python",
   "name": "python3"
  },
  "language_info": {
   "codemirror_mode": {
    "name": "ipython",
    "version": 3
   },
   "file_extension": ".py",
   "mimetype": "text/x-python",
   "name": "python",
   "nbconvert_exporter": "python",
   "pygments_lexer": "ipython3",
   "version": "3.6.4"
  }
 },
 "nbformat": 4,
 "nbformat_minor": 2
}
