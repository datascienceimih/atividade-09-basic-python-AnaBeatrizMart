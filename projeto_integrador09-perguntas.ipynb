{
 "cells": [
  {
   "cell_type": "markdown",
   "metadata": {},
   "source": [
    "# Projeto Integrador 09\n",
    "## Prof. Neylson Crepalde\n",
    "\n",
    "Olá. Neste exercício do projeto integrador, vamos praticar algumas habilidades básicas em Python. Vamos lidar com algumas estruturas de dados nativas da linguagem.\n",
    "\n",
    "1) Crie uma lista com 100 números gerados aleatoriamente. Use o módulo `numpy` para criar os dados que você precisa. Atribua a lista a um objeto nomeado."
   ]
  },
  {
   "cell_type": "code",
   "execution_count": 1,
   "metadata": {},
   "outputs": [],
   "source": [
    "import numpy as np\n",
    "numeros = np.random.normal(size=100)"
   ]
  },
  {
   "cell_type": "markdown",
   "metadata": {},
   "source": [
    "2) Apresente o maior número, o menor número, a média do vetor, o desvio padrão e a variância. Todas essas funções podem ser encontradas no módulo `numpy`."
   ]
  },
  {
   "cell_type": "markdown",
   "metadata": {},
   "source": [
    "3) Apresente os mesmos resultados só que agora, construa uma frase que será apresentada no console. Ex.: A média do vetor numérico é 0.12."
   ]
  },
  {
   "cell_type": "markdown",
   "metadata": {},
   "source": [
    "4) Construa um for loop para iterar entre todos os números do vetor. Exiba o número no console se ele for maior do que 0."
   ]
  },
  {
   "cell_type": "markdown",
   "metadata": {},
   "source": [
    "5) Faça a mesma coisa usando um loop while."
   ]
  },
  {
   "cell_type": "markdown",
   "metadata": {},
   "source": [
    "6) Usando um comando, crie uma lista com números de 0 a 80. Usando um for loop e um loop while, se o número estiver entre 0 e 20, imprima pequeno. Se estiver entre 21 e 40, imprima médio. Se estiver entre 41 e 60, imprima grande. Se estiver entre 61 e 80, imprima \"Que isso, meu?\". Se o número for igual à sua idade, imprima na tela \"Te peguei!\"."
   ]
  },
  {
   "cell_type": "markdown",
   "metadata": {},
   "source": [
    "7) Crie um dicionário. As chaves serão os nomes de 5 pessoas e os valores, suas idades. Usando um for loop, imprima os pares chave, valor."
   ]
  },
  {
   "cell_type": "code",
   "execution_count": 2,
   "metadata": {},
   "outputs": [],
   "source": [
    "dic = {}\n",
    "# O for loop vai ficar assim\n",
    "for i, j in dic.items():\n",
    "    print(i, j)\n",
    "\n",
    "# Isso acontece porque dic.items() retorna tuplas com pares de chaves e valores. \n",
    "# Se atribuímos o retorno de dic.items() a i, j, o primeiro vai para i e o segundo vai para j"
   ]
  },
  {
   "cell_type": "markdown",
   "metadata": {},
   "source": [
    "8) Usando um for loop, mostre quem é a pessoa mais velha e a pessoa mais nova no dicionário. Dica: usaremos um for loop iterando sobre os pares de chaves, valores (os itens).\n",
    "\n",
    "## Divirta-se!!!"
   ]
  }
 ],
 "metadata": {
  "kernelspec": {
   "display_name": "Python 3",
   "language": "python",
   "name": "python3"
  },
  "language_info": {
   "codemirror_mode": {
    "name": "ipython",
    "version": 3
   },
   "file_extension": ".py",
   "mimetype": "text/x-python",
   "name": "python",
   "nbconvert_exporter": "python",
   "pygments_lexer": "ipython3",
   "version": "3.6.4"
  }
 },
 "nbformat": 4,
 "nbformat_minor": 2
}
